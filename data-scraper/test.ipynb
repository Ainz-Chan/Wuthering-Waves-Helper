{
 "cells": [
  {
   "cell_type": "code",
   "execution_count": 1,
   "metadata": {},
   "outputs": [
    {
     "data": {
      "text/plain": [
       "[<tr>\n",
       " <td class=\"center\"><b class=\"a-bold\">WUTHERINGGIFT</b></td>\n",
       " <td width=\"30%\">\n",
       "     ● Astrite x50<br/>\n",
       "     ● Premium Resonance Potion x2<br/>\n",
       "     ● Medium Revival Inhaler x2<br/>\n",
       "     ● Medium Energy Bag x2<br/>\n",
       "     ● Shell Credit x15000\n",
       "     </td>\n",
       " </tr>]"
      ]
     },
     "execution_count": 1,
     "metadata": {},
     "output_type": "execute_result"
    }
   ],
   "source": [
    "from bs4 import BeautifulSoup\n",
    "\n",
    "\n",
    "with open(\"wuthering_waves_codes.html\", \"r\", encoding=\"utf-8\") as file: html_content = file.read()\n",
    "soup = BeautifulSoup(html_content, 'html.parser')\n",
    "tab  = soup.select('.a-table')[0]\n",
    "table = tab.select('tr:not(:first-child)')\n",
    "table"
   ]
  },
  {
   "cell_type": "code",
   "execution_count": 55,
   "metadata": {},
   "outputs": [
    {
     "name": "stdout",
     "output_type": "stream",
     "text": [
      "<td width=\"30%\">\n",
      "    ● Astrite x50<br/>\n",
      "    ● Premium Resonance Potion x2<br/>\n",
      "    ● Medium Revival Inhaler x2<br/>\n",
      "    ● Medium Energy Bag x2<br/>\n",
      "    ● Shell Credit x15000\n",
      "    </td>\n",
      "Astrite x50\n",
      "Premium Resonance Potion x2\n",
      "Medium Revival Inhaler x2\n",
      "Medium Energy Bag x2\n",
      "Shell Credit x15000\n"
     ]
    },
    {
     "data": {
      "text/plain": [
       "[{'name': 'Astrite',\n",
       "  'amount': '50',\n",
       "  'rarity': '5',\n",
       "  'imageURL': 'https://wuthering.gg/_ipx/q_70&s_50x50/images/Items/T_IconA_zcpq_UI.png'},\n",
       " {'name': 'Premium Resonance Potion',\n",
       "  'amount': '2',\n",
       "  'rarity': '3',\n",
       "  'imageURL': 'https://wuthering.gg/_ipx/q_70&s_50x50/images/Items/T_IconRup_exp_2_UI.png'},\n",
       " {'name': 'Medium Revival Inhaler',\n",
       "  'amount': '2',\n",
       "  'rarity': '3',\n",
       "  'imageURL': 'https://wuthering.gg/_ipx/q_70&s_50x50/images/Items/T_IconCook_YJ_014_UI.png'},\n",
       " {'name': 'Medium Energy Bag',\n",
       "  'amount': '2',\n",
       "  'rarity': '3',\n",
       "  'imageURL': 'https://wuthering.gg/_ipx/q_70&s_50x50/images/Items/T_IconWup_Exp_2_UI.png'},\n",
       " {'name': 'Shell Credit',\n",
       "  'amount': '15000',\n",
       "  'rarity': '3',\n",
       "  'imageURL': 'https://wuthering.gg/_ipx/q_70&s_50x50/images/Items/T_IconA_hsb_UI.png'}]"
      ]
     },
     "execution_count": 55,
     "metadata": {},
     "output_type": "execute_result"
    }
   ],
   "source": [
    "import re\n",
    "from difflib import SequenceMatcher\n",
    "\n",
    "def similar(a, b):\n",
    "    return SequenceMatcher(None, a, b).ratio()\n",
    "\n",
    "with open(\"wuwa-items-list.html\", \"r\", encoding=\"utf-8\") as file: item_list_content = file.read()\n",
    "item_list_soup = BeautifulSoup(item_list_content, 'html.parser')\n",
    "rewards_list = []\n",
    "html_element = table[0].select('td')[1]\n",
    "print(html_element)\n",
    "\n",
    "for item in html_element.text.split('●')[1:]:\n",
    "    it = re.match(r\"(.+) x(\\d+)$\", item.strip())\n",
    "    name = it.group(1)\n",
    "    amount = it.group(2)\n",
    "    print(f\"{name} x{amount}\")\n",
    "    \n",
    "    rarity, image_url = None, None\n",
    "    for row in item_list_soup.select('table.items-table tr'):\n",
    "        row_name = row.select_one('div.name')\n",
    "        if (row_name != None) and (SequenceMatcher(None, name, row_name.text).ratio() >= 0.8):\n",
    "            rarity = re.match(r\"quality(\\d+)\", row_name.get('class')[1]).group(1)\n",
    "            image_url = \"https://wuthering.gg\" + row.select_one('img').get('src')\n",
    "            break\n",
    "\n",
    "    rewards_list.append({\n",
    "        'name': name,\n",
    "        'amount': amount,\n",
    "        'rarity': rarity,\n",
    "        'imageURL': image_url\n",
    "    })\n",
    "\n",
    "rewards_list"
   ]
  },
  {
   "cell_type": "code",
   "execution_count": 16,
   "metadata": {},
   "outputs": [
    {
     "name": "stdout",
     "output_type": "stream",
     "text": [
      "FETCHING EVENTS FOR WUTHERING WAVES...\n",
      "[0] getting event: Echo Starter Pack\n",
      "[1] getting event: Depths of Illusive Realm\n",
      "[2] getting event: Overdash Club\n",
      "[3] getting event: Alloy Smelt\n",
      "[4] getting event: Second Coming of Solaris\n",
      "[5] getting event: Echo Summon Web Event\n"
     ]
    },
    {
     "data": {
      "text/plain": [
       "[{'event': 'Echo Starter Pack',\n",
       "  'image': 'https://wutheringwaves.gg/wp-content/uploads/sites/8/2024/05/Wuthering-Waves-Epic-Game-Store-Echo-Starter-Pack-768x432.jpg',\n",
       "  'duration': ('May 23, 2024', None),\n",
       "  'type': 'Event',\n",
       "  'status': None,\n",
       "  'page': 'https://wutheringwaves.gg/echo-starter-pack/'},\n",
       " {'event': 'Depths of Illusive Realm',\n",
       "  'image': 'https://wutheringwaves.gg/wp-content/uploads/sites/8/2024/05/Wuthering-Waves-Event-Depths-of-Illusive-Realm-768x442.png',\n",
       "  'duration': ('May 19, 2024', None),\n",
       "  'type': 'Event',\n",
       "  'status': None,\n",
       "  'page': 'https://wutheringwaves.gg/depths-of-illusive-realm/'},\n",
       " {'event': 'Overdash Club',\n",
       "  'image': 'https://wutheringwaves.gg/wp-content/uploads/sites/8/2024/05/Wuthering-Waves-Event-Overdash-Club-768x442.png',\n",
       "  'duration': ('May 19, 2024', None),\n",
       "  'type': 'Event',\n",
       "  'status': None,\n",
       "  'page': 'https://wutheringwaves.gg/overdash-club/'},\n",
       " {'event': 'Alloy Smelt',\n",
       "  'image': 'https://wutheringwaves.gg/wp-content/uploads/sites/8/2024/05/Wuthering-Waves-Event-Alloy-Smelt-768x442.png',\n",
       "  'duration': ('May 19, 2024', None),\n",
       "  'type': 'Event',\n",
       "  'status': None,\n",
       "  'page': 'https://wutheringwaves.gg/alloy-smelt/'},\n",
       " {'event': 'Second Coming of Solaris',\n",
       "  'image': 'https://wutheringwaves.gg/wp-content/uploads/sites/8/2024/05/Wuthering-Waves-Event-Second-Coming-of-Solaris-768x442.png',\n",
       "  'duration': ('May 19, 2024', None),\n",
       "  'type': 'Event',\n",
       "  'status': None,\n",
       "  'page': 'https://wutheringwaves.gg/second-coming-of-solaris/'},\n",
       " {'event': 'Echo Summon Web Event',\n",
       "  'image': 'https://wutheringwaves.gg/wp-content/uploads/sites/8/2024/04/Wuthering-Waves-Echo-Summon-Event-768x432.jpg',\n",
       "  'duration': ('April 30, 2024', None),\n",
       "  'type': 'Event',\n",
       "  'status': None,\n",
       "  'page': 'https://wutheringwaves.gg/echo-summon/'}]"
      ]
     },
     "execution_count": 16,
     "metadata": {},
     "output_type": "execute_result"
    }
   ],
   "source": [
    "import requests\n",
    "from bs4 import BeautifulSoup\n",
    "\n",
    "print('FETCHING EVENTS FOR WUTHERING WAVES...')\n",
    "# url = \"https://wutheringwaves.gg/news/event/\"\n",
    "# response = requests.get(url)\n",
    "# response.raise_for_status()\n",
    "# soup = BeautifulSoup(response.text, 'html.parser')\n",
    "# with open(\"wuthering_waves_events.html\", \"w\", encoding=\"utf-8\") as file: file.write(response.text)\n",
    "with open(\"wuthering_waves_events.html\", \"r\", encoding=\"utf-8\") as file: html_content = file.read()\n",
    "soup = BeautifulSoup(html_content, 'html.parser')\n",
    "\n",
    "events = soup.select('.entry-card')\n",
    "# statuses = ['Current', 'Upcoming', 'Permanent']\n",
    "# all_events = {'Current': [], 'Upcoming': [], 'Permanent': []}\n",
    "all_events = []\n",
    "\n",
    "for i, event in enumerate(events):\n",
    "    print(f'[{i}] getting event:', end=' ')\n",
    "    name = event.select_one(\".entry-title\").text.strip()\n",
    "    print(name)\n",
    "    imageURL = event.select_one('img').get('src')\n",
    "    duration = (event.select_one('.ct-meta-element-date').text, None)\n",
    "    type = event.select_one(\".ct-term-12\").text\n",
    "    status = None\n",
    "    page = event.select_one(\".entry-title > a\").get('href')\n",
    "    \n",
    "    table = { 'event': name, 'image': imageURL, 'duration': duration, 'type': type, 'status': status, 'page': page}\n",
    "    all_events.append(table)\n",
    "    \n",
    "all_events"
   ]
  }
 ],
 "metadata": {
  "kernelspec": {
   "display_name": "Python 3",
   "language": "python",
   "name": "python3"
  },
  "language_info": {
   "codemirror_mode": {
    "name": "ipython",
    "version": 3
   },
   "file_extension": ".py",
   "mimetype": "text/x-python",
   "name": "python",
   "nbconvert_exporter": "python",
   "pygments_lexer": "ipython3",
   "version": "3.12.2"
  }
 },
 "nbformat": 4,
 "nbformat_minor": 2
}
